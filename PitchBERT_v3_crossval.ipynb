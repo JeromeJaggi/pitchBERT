{
 "cells": [
  {
   "cell_type": "code",
   "execution_count": 1,
   "id": "1e6ed7ec",
   "metadata": {},
   "outputs": [],
   "source": [
    "# importing dependencies for file access, model, visualisations\n",
    "import pandas as pd\n",
    "import tensorflow as tf\n",
    "import keras.backend as K\n",
    "import numpy as np\n",
    "import os\n",
    "import matplotlib.pyplot as plt\n",
    "import seaborn as sns\n",
    "\n",
    "from transformers import BertTokenizer, TFBertForSequenceClassification\n",
    "from datasets import Dataset\n",
    "from tensorflow.keras.optimizers import Adam\n",
    "from tensorflow.math import confusion_matrix\n",
    "from sklearn.model_selection import train_test_split\n",
    "from sklearn.model_selection import KFold\n",
    "\n",
    "\n",
    "# importing dependencies for testing\n",
    "import chardet"
   ]
  },
  {
   "cell_type": "code",
   "execution_count": 2,
   "id": "f2b78b2c",
   "metadata": {},
   "outputs": [
    {
     "name": "stdout",
     "output_type": "stream",
     "text": [
      "✅ Loaded 51 documents.\n"
     ]
    }
   ],
   "source": [
    "def load_data_from_directory(base_dir):\n",
    "    \"\"\"\n",
    "    Load data and integer labels from the directory structure.\n",
    "\n",
    "    Parameters:\n",
    "    - base_dir: The directory containing label-based subdirectories\n",
    "\n",
    "    Returns:\n",
    "    - texts: A list of texts from the files\n",
    "    - labels: A corresponding list of integer labels\n",
    "    \"\"\"\n",
    "    texts = []\n",
    "    labels = []\n",
    "\n",
    "    # Loop through each directory in the base directory\n",
    "    for label_dir in os.listdir(base_dir):\n",
    "        # Ensure it's actually a directory\n",
    "        if os.path.isdir(os.path.join(base_dir, label_dir)):\n",
    "            # Extract label from the directory name (here we extract the prefixing number)\n",
    "            label_int = int(label_dir.split('_')[0]) - 1  # subtracting 1 to make labels start from 0\n",
    "\n",
    "            # Loop through each file in the directory\n",
    "            for filename in os.listdir(os.path.join(base_dir, label_dir)):\n",
    "                if filename.endswith(\".txt\"):\n",
    "                    with open(os.path.join(base_dir, label_dir, filename), 'r', encoding='utf-8') as file:\n",
    "                        texts.append(file.read())\n",
    "                        labels.append(label_int)\n",
    "\n",
    "    return texts, labels\n",
    "\n",
    "\n",
    "base_dir = \"/Users/jeromejaggi/Desktop/MSc Dissertation/6_Data\"\n",
    "texts, labels = load_data_from_directory(base_dir)\n",
    "print(\"✅ Loaded\", len(texts), \"documents.\")\n",
    "\n",
    "\n",
    "\n"
   ]
  },
  {
   "cell_type": "code",
   "execution_count": 3,
   "id": "6c8d1e80",
   "metadata": {},
   "outputs": [
    {
     "name": "stdout",
     "output_type": "stream",
     "text": [
      "✅ 51 files checked and confirmed ascii or utf-8\n"
     ]
    }
   ],
   "source": [
    "# Ensure all file encodings are UTF-8\n",
    "\n",
    "def detect_file_encodings(base_dir):\n",
    "    encodings = {}\n",
    "\n",
    "    for label_dir in os.listdir(base_dir):\n",
    "        if os.path.isdir(os.path.join(base_dir, label_dir)):\n",
    "            for filename in os.listdir(os.path.join(base_dir, label_dir)):\n",
    "                if filename.endswith(\".txt\"):\n",
    "                    file_path = os.path.join(base_dir, label_dir, filename)\n",
    "\n",
    "                    # Detect encoding of the file\n",
    "                    with open(file_path, 'rb') as file:\n",
    "                        result = chardet.detect(file.read())\n",
    "                        file_encoding = result['encoding']\n",
    "                        encodings[file_path] = file_encoding\n",
    "\n",
    "    return encodings\n",
    "\n",
    "base_dir = \"/Users/jeromejaggi/Desktop/MSc Dissertation/6_Data\"\n",
    "file_encodings = detect_file_encodings(base_dir)\n",
    "\n",
    "# Print out the files and their detected encodings if not ascii or utf-8\n",
    "counter = 0\n",
    "for file, encoding in file_encodings.items():\n",
    "    if encoding == \"ascii\" or encoding ==\"utf-8\":\n",
    "        counter += 1\n",
    "    else:\n",
    "        print(f\" ❌ {file}: {encoding}\")\n",
    "        \n",
    "print(f\"✅ {counter} files checked and confirmed ascii or utf-8\")"
   ]
  },
  {
   "cell_type": "code",
   "execution_count": 4,
   "id": "c543a61f",
   "metadata": {},
   "outputs": [],
   "source": [
    "# Convert all files to UTF-8 encoding, commented out after use\n",
    "\n",
    "def convert_to_utf8(file_path):\n",
    "    with open(file_path, 'rb') as file:\n",
    "        content = file.read()\n",
    "        detected_encoding = chardet.detect(content)['encoding']\n",
    "\n",
    "        # Handle potential None value\n",
    "        if not detected_encoding:\n",
    "            detected_encoding = 'utf-8'\n",
    "\n",
    "    # Decode with detected encoding and then re-encode in UTF-8\n",
    "    content_decoded = content.decode(detected_encoding, errors='replace')\n",
    "    with open(file_path, 'w', encoding='utf-8') as file:\n",
    "        file.write(content_decoded)\n",
    "\n",
    "directory_path = \"/Users/jeromejaggi/Desktop/MSc Dissertation/6_Data\"\n",
    "for root, dirs, files in os.walk(directory_path):\n",
    "    for filename in files:\n",
    "        if filename.endswith(\".txt\"):\n",
    "            file_path = os.path.join(root, filename)\n",
    "            #convert_to_utf8(file_path) #no longer needed in final code\n"
   ]
  },
  {
   "cell_type": "code",
   "execution_count": 5,
   "id": "f35f76c1",
   "metadata": {
    "scrolled": true
   },
   "outputs": [
    {
     "name": "stdout",
     "output_type": "stream",
     "text": [
      " ✅Data has been tokenized and split into training and validation sets.\n"
     ]
    },
    {
     "name": "stderr",
     "output_type": "stream",
     "text": [
      "2023-08-18 19:22:59.251078: I metal_plugin/src/device/metal_device.cc:1154] Metal device set to: Apple M2 Max\n",
      "2023-08-18 19:22:59.251103: I metal_plugin/src/device/metal_device.cc:296] systemMemory: 32.00 GB\n",
      "2023-08-18 19:22:59.251112: I metal_plugin/src/device/metal_device.cc:313] maxCacheSize: 10.67 GB\n",
      "2023-08-18 19:22:59.251147: I tensorflow/core/common_runtime/pluggable_device/pluggable_device_factory.cc:303] Could not identify NUMA node of platform GPU ID 0, defaulting to 0. Your kernel may not have been built with NUMA support.\n",
      "2023-08-18 19:22:59.251177: I tensorflow/core/common_runtime/pluggable_device/pluggable_device_factory.cc:269] Created TensorFlow device (/job:localhost/replica:0/task:0/device:GPU:0 with 0 MB memory) -> physical PluggableDevice (device: 0, name: METAL, pci bus id: <undefined>)\n"
     ]
    }
   ],
   "source": [
    "# Initialize tokenizer\n",
    "tokenizer = BertTokenizer.from_pretrained('bert-base-uncased')\n",
    "\n",
    "# Tokenize the texts\n",
    "encoded_texts = tokenizer(texts, truncation=True, padding=True, max_length=512, return_tensors='tf')\n",
    "\n",
    "# Split data into training and validation sets\n",
    "input_ids_np = np.array(encoded_texts['input_ids'])\n",
    "labels_np = np.array(labels)\n",
    "\n",
    "train_inputs, val_inputs, train_labels, val_labels = train_test_split(\n",
    "    input_ids_np, \n",
    "    labels_np, \n",
    "    test_size=0.2, \n",
    "    random_state=42\n",
    ")\n",
    "\n",
    "print(\" ✅Data has been tokenized and split into training and validation sets.\")"
   ]
  },
  {
   "cell_type": "code",
   "execution_count": null,
   "id": "49415a1e",
   "metadata": {},
   "outputs": [],
   "source": [
    "\n"
   ]
  },
  {
   "cell_type": "code",
   "execution_count": 6,
   "id": "9e423ee5",
   "metadata": {},
   "outputs": [],
   "source": [
    "# Initialize BERT model for classification with 4 categories\n",
    "#model = TFBertForSequenceClassification.from_pretrained('bert-base-uncased', num_labels=4)\n",
    "\n",
    "#optimizer = Adam(learning_rate=5e-6, epsilon=1e-08)\n",
    "#loss = 'sparse_categorical_crossentropy'  # since our labels are integers (0, 1, 2, 3)\n",
    "#metric = 'accuracy' # use different metric?\n",
    "\n",
    "# Testing alternative metric for model performance, F1 score gives a balanced measurement between accuracy and recall\n",
    "# f1_score = tf.keras.metrics.F1Score(average=\"micro\")\n",
    "\n",
    "#model.compile(optimizer=optimizer, loss=loss, metrics=[metric])"
   ]
  },
  {
   "cell_type": "markdown",
   "id": "85fd53d0",
   "metadata": {},
   "source": [
    "Should I use different metrics and/or optimizer?"
   ]
  },
  {
   "cell_type": "code",
   "execution_count": 7,
   "id": "858ea263",
   "metadata": {},
   "outputs": [
    {
     "name": "stdout",
     "output_type": "stream",
     "text": [
      "Training for fold 1\n"
     ]
    },
    {
     "name": "stderr",
     "output_type": "stream",
     "text": [
      "All PyTorch model weights were used when initializing TFBertForSequenceClassification.\n",
      "\n",
      "Some weights or buffers of the TF 2.0 model TFBertForSequenceClassification were not initialized from the PyTorch model and are newly initialized: ['classifier.weight', 'classifier.bias']\n",
      "You should probably TRAIN this model on a down-stream task to be able to use it for predictions and inference.\n",
      "WARNING:absl:At this time, the v2.11+ optimizer `tf.keras.optimizers.Adam` runs slowly on M1/M2 Macs, please use the legacy Keras optimizer instead, located at `tf.keras.optimizers.legacy.Adam`.\n",
      "WARNING:absl:There is a known slowdown when using v2.11+ Keras optimizers on M1/M2 Macs. Falling back to the legacy Keras optimizer, i.e., `tf.keras.optimizers.legacy.Adam`.\n"
     ]
    },
    {
     "name": "stdout",
     "output_type": "stream",
     "text": [
      "Epoch 1/3\n"
     ]
    },
    {
     "name": "stderr",
     "output_type": "stream",
     "text": [
      "2023-08-18 19:23:08.290951: I tensorflow/core/grappler/optimizers/custom_graph_optimizer_registry.cc:114] Plugin optimizer for device_type GPU is enabled.\n"
     ]
    },
    {
     "name": "stdout",
     "output_type": "stream",
     "text": [
      "3/3 [==============================] - ETA: 0s - loss: 4.1203 - accuracy: 0.3250"
     ]
    },
    {
     "name": "stderr",
     "output_type": "stream",
     "text": [
      "2023-08-18 19:25:35.148226: I tensorflow/core/grappler/optimizers/custom_graph_optimizer_registry.cc:114] Plugin optimizer for device_type GPU is enabled.\n"
     ]
    },
    {
     "name": "stdout",
     "output_type": "stream",
     "text": [
      "3/3 [==============================] - 178s 47s/step - loss: 4.1203 - accuracy: 0.3250 - val_loss: 2.1833 - val_accuracy: 0.2727\n",
      "Epoch 2/3\n",
      "3/3 [==============================] - 13s 2s/step - loss: 2.4483 - accuracy: 0.3500 - val_loss: 1.3863 - val_accuracy: 0.0909\n",
      "Epoch 3/3\n",
      "3/3 [==============================] - 7s 2s/step - loss: 2.2643 - accuracy: 0.2000 - val_loss: 1.3863 - val_accuracy: 0.0909\n",
      "Training for fold 2\n"
     ]
    },
    {
     "name": "stderr",
     "output_type": "stream",
     "text": [
      "All PyTorch model weights were used when initializing TFBertForSequenceClassification.\n",
      "\n",
      "Some weights or buffers of the TF 2.0 model TFBertForSequenceClassification were not initialized from the PyTorch model and are newly initialized: ['classifier.weight', 'classifier.bias']\n",
      "You should probably TRAIN this model on a down-stream task to be able to use it for predictions and inference.\n",
      "WARNING:absl:At this time, the v2.11+ optimizer `tf.keras.optimizers.Adam` runs slowly on M1/M2 Macs, please use the legacy Keras optimizer instead, located at `tf.keras.optimizers.legacy.Adam`.\n",
      "WARNING:absl:There is a known slowdown when using v2.11+ Keras optimizers on M1/M2 Macs. Falling back to the legacy Keras optimizer, i.e., `tf.keras.optimizers.legacy.Adam`.\n"
     ]
    },
    {
     "name": "stdout",
     "output_type": "stream",
     "text": [
      "Epoch 1/3\n"
     ]
    },
    {
     "name": "stderr",
     "output_type": "stream",
     "text": [
      "2023-08-18 19:26:29.700758: I tensorflow/core/grappler/optimizers/custom_graph_optimizer_registry.cc:114] Plugin optimizer for device_type GPU is enabled.\n"
     ]
    },
    {
     "name": "stdout",
     "output_type": "stream",
     "text": [
      "3/3 [==============================] - ETA: 0s - loss: 4.2323 - accuracy: 0.2927"
     ]
    },
    {
     "name": "stderr",
     "output_type": "stream",
     "text": [
      "2023-08-18 19:29:10.926258: I tensorflow/core/grappler/optimizers/custom_graph_optimizer_registry.cc:114] Plugin optimizer for device_type GPU is enabled.\n"
     ]
    },
    {
     "name": "stdout",
     "output_type": "stream",
     "text": [
      "3/3 [==============================] - 202s 55s/step - loss: 4.2323 - accuracy: 0.2927 - val_loss: 1.2477 - val_accuracy: 0.4000\n",
      "Epoch 2/3\n",
      "3/3 [==============================] - 11s 2s/step - loss: 3.5377 - accuracy: 0.2683 - val_loss: 1.3863 - val_accuracy: 0.3000\n",
      "Epoch 3/3\n",
      "3/3 [==============================] - 6s 2s/step - loss: 1.8095 - accuracy: 0.3415 - val_loss: 1.3863 - val_accuracy: 0.3000\n",
      "Training for fold 3\n"
     ]
    },
    {
     "name": "stderr",
     "output_type": "stream",
     "text": [
      "All PyTorch model weights were used when initializing TFBertForSequenceClassification.\n",
      "\n",
      "Some weights or buffers of the TF 2.0 model TFBertForSequenceClassification were not initialized from the PyTorch model and are newly initialized: ['classifier.weight', 'classifier.bias']\n",
      "You should probably TRAIN this model on a down-stream task to be able to use it for predictions and inference.\n",
      "WARNING:absl:At this time, the v2.11+ optimizer `tf.keras.optimizers.Adam` runs slowly on M1/M2 Macs, please use the legacy Keras optimizer instead, located at `tf.keras.optimizers.legacy.Adam`.\n",
      "WARNING:absl:There is a known slowdown when using v2.11+ Keras optimizers on M1/M2 Macs. Falling back to the legacy Keras optimizer, i.e., `tf.keras.optimizers.legacy.Adam`.\n"
     ]
    },
    {
     "name": "stdout",
     "output_type": "stream",
     "text": [
      "Epoch 1/3\n"
     ]
    },
    {
     "name": "stderr",
     "output_type": "stream",
     "text": [
      "2023-08-18 19:30:10.826975: I tensorflow/core/grappler/optimizers/custom_graph_optimizer_registry.cc:114] Plugin optimizer for device_type GPU is enabled.\n"
     ]
    },
    {
     "name": "stdout",
     "output_type": "stream",
     "text": [
      "3/3 [==============================] - ETA: 0s - loss: 8.9635 - accuracy: 0.2439"
     ]
    },
    {
     "name": "stderr",
     "output_type": "stream",
     "text": [
      "2023-08-18 19:33:06.841207: I tensorflow/core/grappler/optimizers/custom_graph_optimizer_registry.cc:114] Plugin optimizer for device_type GPU is enabled.\n"
     ]
    },
    {
     "name": "stdout",
     "output_type": "stream",
     "text": [
      "3/3 [==============================] - 219s 61s/step - loss: 8.9635 - accuracy: 0.2439 - val_loss: 3.0054 - val_accuracy: 0.4000\n",
      "Epoch 2/3\n",
      "3/3 [==============================] - 13s 3s/step - loss: 6.0818 - accuracy: 0.2439 - val_loss: 2.1342 - val_accuracy: 0.5000\n",
      "Epoch 3/3\n",
      "3/3 [==============================] - 9s 3s/step - loss: 5.6627 - accuracy: 0.2439 - val_loss: 1.7839 - val_accuracy: 0.6000\n",
      "Training for fold 4\n"
     ]
    },
    {
     "name": "stderr",
     "output_type": "stream",
     "text": [
      "All PyTorch model weights were used when initializing TFBertForSequenceClassification.\n",
      "\n",
      "Some weights or buffers of the TF 2.0 model TFBertForSequenceClassification were not initialized from the PyTorch model and are newly initialized: ['classifier.weight', 'classifier.bias']\n",
      "You should probably TRAIN this model on a down-stream task to be able to use it for predictions and inference.\n",
      "WARNING:absl:At this time, the v2.11+ optimizer `tf.keras.optimizers.Adam` runs slowly on M1/M2 Macs, please use the legacy Keras optimizer instead, located at `tf.keras.optimizers.legacy.Adam`.\n",
      "WARNING:absl:There is a known slowdown when using v2.11+ Keras optimizers on M1/M2 Macs. Falling back to the legacy Keras optimizer, i.e., `tf.keras.optimizers.legacy.Adam`.\n"
     ]
    },
    {
     "name": "stdout",
     "output_type": "stream",
     "text": [
      "Epoch 1/3\n"
     ]
    },
    {
     "name": "stderr",
     "output_type": "stream",
     "text": [
      "2023-08-18 19:34:11.732234: I tensorflow/core/grappler/optimizers/custom_graph_optimizer_registry.cc:114] Plugin optimizer for device_type GPU is enabled.\n"
     ]
    },
    {
     "name": "stdout",
     "output_type": "stream",
     "text": [
      "3/3 [==============================] - ETA: 0s - loss: 11.2425 - accuracy: 0.0976     "
     ]
    },
    {
     "name": "stderr",
     "output_type": "stream",
     "text": [
      "2023-08-18 19:37:26.652244: I tensorflow/core/grappler/optimizers/custom_graph_optimizer_registry.cc:114] Plugin optimizer for device_type GPU is enabled.\n"
     ]
    },
    {
     "name": "stdout",
     "output_type": "stream",
     "text": [
      "3/3 [==============================] - 240s 64s/step - loss: 11.2425 - accuracy: 0.0976 - val_loss: 9.7104 - val_accuracy: 0.1000\n",
      "Epoch 2/3\n",
      "3/3 [==============================] - 13s 3s/step - loss: 8.1157 - accuracy: 0.2439 - val_loss: 7.9930 - val_accuracy: 0.2000\n",
      "Epoch 3/3\n",
      "3/3 [==============================] - 9s 3s/step - loss: 7.0196 - accuracy: 0.2683 - val_loss: 5.4732 - val_accuracy: 0.2000\n",
      "Training for fold 5\n"
     ]
    },
    {
     "name": "stderr",
     "output_type": "stream",
     "text": [
      "All PyTorch model weights were used when initializing TFBertForSequenceClassification.\n",
      "\n",
      "Some weights or buffers of the TF 2.0 model TFBertForSequenceClassification were not initialized from the PyTorch model and are newly initialized: ['classifier.weight', 'classifier.bias']\n",
      "You should probably TRAIN this model on a down-stream task to be able to use it for predictions and inference.\n",
      "WARNING:absl:At this time, the v2.11+ optimizer `tf.keras.optimizers.Adam` runs slowly on M1/M2 Macs, please use the legacy Keras optimizer instead, located at `tf.keras.optimizers.legacy.Adam`.\n",
      "WARNING:absl:There is a known slowdown when using v2.11+ Keras optimizers on M1/M2 Macs. Falling back to the legacy Keras optimizer, i.e., `tf.keras.optimizers.legacy.Adam`.\n"
     ]
    },
    {
     "name": "stdout",
     "output_type": "stream",
     "text": [
      "Epoch 1/3\n"
     ]
    },
    {
     "name": "stderr",
     "output_type": "stream",
     "text": [
      "2023-08-18 19:38:35.326904: I tensorflow/core/grappler/optimizers/custom_graph_optimizer_registry.cc:114] Plugin optimizer for device_type GPU is enabled.\n"
     ]
    },
    {
     "name": "stdout",
     "output_type": "stream",
     "text": [
      "3/3 [==============================] - ETA: 0s - loss: 6.1846 - accuracy: 0.1951"
     ]
    },
    {
     "name": "stderr",
     "output_type": "stream",
     "text": [
      "2023-08-18 19:42:27.340871: I tensorflow/core/grappler/optimizers/custom_graph_optimizer_registry.cc:114] Plugin optimizer for device_type GPU is enabled.\n"
     ]
    },
    {
     "name": "stdout",
     "output_type": "stream",
     "text": [
      "WARNING:tensorflow:5 out of the last 13 calls to <function Model.make_test_function.<locals>.test_function at 0x3394f3e50> triggered tf.function retracing. Tracing is expensive and the excessive number of tracings could be due to (1) creating @tf.function repeatedly in a loop, (2) passing tensors with different shapes, (3) passing Python objects instead of tensors. For (1), please define your @tf.function outside of the loop. For (2), @tf.function has reduce_retracing=True option that can avoid unnecessary retracing. For (3), please refer to https://www.tensorflow.org/guide/function#controlling_retracing and https://www.tensorflow.org/api_docs/python/tf/function for  more details.\n"
     ]
    },
    {
     "name": "stderr",
     "output_type": "stream",
     "text": [
      "WARNING:tensorflow:5 out of the last 13 calls to <function Model.make_test_function.<locals>.test_function at 0x3394f3e50> triggered tf.function retracing. Tracing is expensive and the excessive number of tracings could be due to (1) creating @tf.function repeatedly in a loop, (2) passing tensors with different shapes, (3) passing Python objects instead of tensors. For (1), please define your @tf.function outside of the loop. For (2), @tf.function has reduce_retracing=True option that can avoid unnecessary retracing. For (3), please refer to https://www.tensorflow.org/guide/function#controlling_retracing and https://www.tensorflow.org/api_docs/python/tf/function for  more details.\n"
     ]
    },
    {
     "name": "stdout",
     "output_type": "stream",
     "text": [
      "3/3 [==============================] - 281s 76s/step - loss: 6.1846 - accuracy: 0.1951 - val_loss: 1.2501 - val_accuracy: 0.3000\n",
      "Epoch 2/3\n",
      "3/3 [==============================] - 14s 3s/step - loss: 3.4887 - accuracy: 0.4634 - val_loss: 1.2306 - val_accuracy: 0.3000\n",
      "Epoch 3/3\n",
      "3/3 [==============================] - 9s 3s/step - loss: 2.4336 - accuracy: 0.5854 - val_loss: 2.6040 - val_accuracy: 0.3000\n"
     ]
    }
   ],
   "source": [
    "# Testing k-fold-crossvalidation to train the model on a larger dataset while retaining some validation\n",
    "\n",
    "k = 5\n",
    "kf = KFold(n_splits=k, shuffle=True, random_state=42)\n",
    "\n",
    "# iterate over the train-test splits and train the model for each split\n",
    "input_ids_np = np.array(encoded_texts['input_ids'])\n",
    "labels_np = np.array(labels)\n",
    "\n",
    "fold = 0\n",
    "for train_index, val_index in kf.split(input_ids_np):\n",
    "    fold += 1\n",
    "    print(f\"Training for fold {fold}\")\n",
    "\n",
    "    # Create data for this fold\n",
    "    train_inputs, val_inputs = input_ids_np[train_index], input_ids_np[val_index]\n",
    "    train_labels, val_labels = labels_np[train_index], labels_np[val_index]\n",
    "    \n",
    "    # Initialize model for each fold\n",
    "    model = TFBertForSequenceClassification.from_pretrained('bert-base-uncased', num_labels=4)\n",
    "    optimizer = Adam(learning_rate=5e-6, epsilon=1e-08)\n",
    "    loss = 'sparse_categorical_crossentropy'\n",
    "    metric = ['accuracy']\n",
    "    \n",
    "    model.compile(optimizer=optimizer, loss=loss, metrics=metric)\n",
    "    \n",
    "    # Train the model on this fold's data\n",
    "    model.fit(train_inputs, train_labels, epochs=3, batch_size=16, validation_data=(val_inputs, val_labels))\n"
   ]
  },
  {
   "cell_type": "code",
   "execution_count": 8,
   "id": "51649e38",
   "metadata": {},
   "outputs": [],
   "source": [
    "# Train the model\n",
    "#history = model.fit(\n",
    "#    train_inputs, \n",
    "#    train_labels, \n",
    "#    validation_data=(val_inputs, val_labels), \n",
    "#    epochs=25, \n",
    "#    batch_size=8 \n",
    "#)"
   ]
  },
  {
   "cell_type": "code",
   "execution_count": 9,
   "id": "44f1bde8",
   "metadata": {},
   "outputs": [
    {
     "name": "stderr",
     "output_type": "stream",
     "text": [
      "2023-08-18 19:43:35.030561: I tensorflow/core/grappler/optimizers/custom_graph_optimizer_registry.cc:114] Plugin optimizer for device_type GPU is enabled.\n"
     ]
    },
    {
     "name": "stdout",
     "output_type": "stream",
     "text": [
      "1/1 [==============================] - 42s 42s/step\n"
     ]
    }
   ],
   "source": [
    "# Confusion matrix\n",
    "\n",
    "predictions = model.predict(val_inputs)\n",
    "y_pred = predictions.logits\n",
    "\n",
    "y_pred_classes = np.argmax(y_pred, axis=1)\n",
    "\n",
    "y_true_classes = val_labels\n",
    "\n",
    "matrix = confusion_matrix(y_true_classes, y_pred_classes).numpy()"
   ]
  },
  {
   "cell_type": "code",
   "execution_count": 10,
   "id": "b4658416",
   "metadata": {},
   "outputs": [
    {
     "data": {
      "image/png": "[encoded data removed]",
      "text/plain": [
       "<Figure size 1000x700 with 2 Axes>"
      ]
     },
     "metadata": {},
     "output_type": "display_data"
    }
   ],
   "source": [
    "# Plot confusion matrix\n",
    "\n",
    "class_names = ['Public', 'Acquired', 'Venture', 'Closed']\n",
    "\n",
    "plt.figure(figsize=(10, 7))\n",
    "sns.heatmap(matrix, annot=True, fmt='d', cmap=\"Blues\", xticklabels=class_names, yticklabels=class_names)\n",
    "plt.xlabel('Predicted')\n",
    "plt.ylabel('True')\n",
    "plt.show()"
   ]
  },
  {
   "cell_type": "markdown",
   "id": "7bb7507f",
   "metadata": {},
   "source": [
    "### Confusion Matrix\n",
    "\n",
    "A confusion matrix is a visualization tool used to assess classification model performance. Each row represents the actual classes, while each column signifies the predicted classes.\n",
    "\n",
    "**Diagonal Elements**: Represent correct predictions (True Positives for each class).\n",
    "\n",
    "**Off-Diagonal Elements**: Indicate misclassifications. The element in row x and column y shows the instances where the actual class x was predicted as class y.\n",
    "\n",
    "A well-performing model will have higher values on the diagonal compared to off-diagonal elements, indicating accurate predictions."
   ]
  },
  {
   "cell_type": "code",
   "execution_count": null,
   "id": "52fda805",
   "metadata": {},
   "outputs": [],
   "source": []
  }
 ],
 "metadata": {
  "kernelspec": {
   "display_name": "venv-metal",
   "language": "python",
   "name": "venv-metal"
  },
  "language_info": {
   "codemirror_mode": {
    "name": "ipython",
    "version": 3
   },
   "file_extension": ".py",
   "mimetype": "text/x-python",
   "name": "python",
   "nbconvert_exporter": "python",
   "pygments_lexer": "ipython3",
   "version": "3.9.6"
  },
  "toc": {
   "base_numbering": 1,
   "nav_menu": {},
   "number_sections": true,
   "sideBar": true,
   "skip_h1_title": false,
   "title_cell": "Table of Contents",
   "title_sidebar": "Contents",
   "toc_cell": false,
   "toc_position": {},
   "toc_section_display": true,
   "toc_window_display": false
  }
 },
 "nbformat": 4,
 "nbformat_minor": 5
}
