{
 "cells": [
  {
   "cell_type": "code",
   "execution_count": 1,
   "id": "1e6ed7ec",
   "metadata": {},
   "outputs": [],
   "source": [
    "# importing dependencies for file access, model, visualisations\n",
    "import pandas as pd\n",
    "import tensorflow as tf\n",
    "import keras.backend as K\n",
    "import numpy as np\n",
    "import os\n",
    "import matplotlib.pyplot as plt\n",
    "import seaborn as sns\n",
    "\n",
    "from transformers import BertTokenizer, TFBertForSequenceClassification\n",
    "from datasets import Dataset\n",
    "from tensorflow.keras.optimizers import Adam\n",
    "from tensorflow.math import confusion_matrix\n",
    "from sklearn.model_selection import train_test_split\n",
    "\n",
    "\n",
    "# importing dependencies for testing\n",
    "import chardet"
   ]
  },
  {
   "cell_type": "code",
   "execution_count": 2,
   "id": "f2b78b2c",
   "metadata": {},
   "outputs": [
    {
     "name": "stdout",
     "output_type": "stream",
     "text": [
      "✅ Loaded 51 documents.\n"
     ]
    }
   ],
   "source": [
    "def load_data_from_directory(base_dir):\n",
    "    \"\"\"\n",
    "    Load data and integer labels from the directory structure.\n",
    "\n",
    "    Parameters:\n",
    "    - base_dir: The directory containing label-based subdirectories\n",
    "\n",
    "    Returns:\n",
    "    - texts: A list of texts from the files\n",
    "    - labels: A corresponding list of integer labels\n",
    "    \"\"\"\n",
    "    texts = []\n",
    "    labels = []\n",
    "\n",
    "    # Loop through each directory in the base directory\n",
    "    for label_dir in os.listdir(base_dir):\n",
    "        # Ensure it's actually a directory\n",
    "        if os.path.isdir(os.path.join(base_dir, label_dir)):\n",
    "            # Extract label from the directory name (here we extract the prefixing number)\n",
    "            label_int = int(label_dir.split('_')[0]) - 1  # subtracting 1 to make labels start from 0\n",
    "\n",
    "            # Loop through each file in the directory\n",
    "            for filename in os.listdir(os.path.join(base_dir, label_dir)):\n",
    "                if filename.endswith(\".txt\"):\n",
    "                    with open(os.path.join(base_dir, label_dir, filename), 'r', encoding='utf-8') as file:\n",
    "                        texts.append(file.read())\n",
    "                        labels.append(label_int)\n",
    "\n",
    "    return texts, labels\n",
    "\n",
    "\n",
    "base_dir = \"/Users/jeromejaggi/Desktop/MSc Dissertation/6_Data\"\n",
    "texts, labels = load_data_from_directory(base_dir)\n",
    "print(\"✅ Loaded\", len(texts), \"documents.\")\n",
    "\n",
    "\n",
    "\n"
   ]
  },
  {
   "cell_type": "code",
   "execution_count": 3,
   "id": "6c8d1e80",
   "metadata": {},
   "outputs": [
    {
     "name": "stdout",
     "output_type": "stream",
     "text": [
      "✅ 51 files checked and confirmed ascii or utf-8\n"
     ]
    }
   ],
   "source": [
    "# Ensure all file encodings are UTF-8\n",
    "\n",
    "def detect_file_encodings(base_dir):\n",
    "    encodings = {}\n",
    "\n",
    "    for label_dir in os.listdir(base_dir):\n",
    "        if os.path.isdir(os.path.join(base_dir, label_dir)):\n",
    "            for filename in os.listdir(os.path.join(base_dir, label_dir)):\n",
    "                if filename.endswith(\".txt\"):\n",
    "                    file_path = os.path.join(base_dir, label_dir, filename)\n",
    "\n",
    "                    # Detect encoding of the file\n",
    "                    with open(file_path, 'rb') as file:\n",
    "                        result = chardet.detect(file.read())\n",
    "                        file_encoding = result['encoding']\n",
    "                        encodings[file_path] = file_encoding\n",
    "\n",
    "    return encodings\n",
    "\n",
    "base_dir = \"/Users/jeromejaggi/Desktop/MSc Dissertation/6_Data\"\n",
    "file_encodings = detect_file_encodings(base_dir)\n",
    "\n",
    "# Print out the files and their detected encodings if not ascii or utf-8\n",
    "counter = 0\n",
    "for file, encoding in file_encodings.items():\n",
    "    if encoding == \"ascii\" or encoding ==\"utf-8\":\n",
    "        counter += 1\n",
    "    else:\n",
    "        print(f\" ❌ {file}: {encoding}\")\n",
    "        \n",
    "print(f\"✅ {counter} files checked and confirmed ascii or utf-8\")"
   ]
  },
  {
   "cell_type": "code",
   "execution_count": 4,
   "id": "c543a61f",
   "metadata": {},
   "outputs": [],
   "source": [
    "# Convert all files to UTF-8 encoding, commented out after use\n",
    "\n",
    "def convert_to_utf8(file_path):\n",
    "    with open(file_path, 'rb') as file:\n",
    "        content = file.read()\n",
    "        detected_encoding = chardet.detect(content)['encoding']\n",
    "\n",
    "        # Handle potential None value\n",
    "        if not detected_encoding:\n",
    "            detected_encoding = 'utf-8'\n",
    "\n",
    "    # Decode with detected encoding and then re-encode in UTF-8\n",
    "    content_decoded = content.decode(detected_encoding, errors='replace')\n",
    "    with open(file_path, 'w', encoding='utf-8') as file:\n",
    "        file.write(content_decoded)\n",
    "\n",
    "directory_path = \"/Users/jeromejaggi/Desktop/MSc Dissertation/6_Data\"\n",
    "for root, dirs, files in os.walk(directory_path):\n",
    "    for filename in files:\n",
    "        if filename.endswith(\".txt\"):\n",
    "            file_path = os.path.join(root, filename)\n",
    "            #convert_to_utf8(file_path) #no longer needed in final code\n"
   ]
  },
  {
   "cell_type": "code",
   "execution_count": 5,
   "id": "f35f76c1",
   "metadata": {
    "scrolled": true
   },
   "outputs": [
    {
     "name": "stdout",
     "output_type": "stream",
     "text": [
      " ✅Data has been tokenized and split into training and validation sets.\n"
     ]
    },
    {
     "name": "stderr",
     "output_type": "stream",
     "text": [
      "2023-08-18 19:24:58.319870: I metal_plugin/src/device/metal_device.cc:1154] Metal device set to: Apple M2 Max\n",
      "2023-08-18 19:24:58.319889: I metal_plugin/src/device/metal_device.cc:296] systemMemory: 32.00 GB\n",
      "2023-08-18 19:24:58.319896: I metal_plugin/src/device/metal_device.cc:313] maxCacheSize: 10.67 GB\n",
      "2023-08-18 19:24:58.319932: I tensorflow/core/common_runtime/pluggable_device/pluggable_device_factory.cc:303] Could not identify NUMA node of platform GPU ID 0, defaulting to 0. Your kernel may not have been built with NUMA support.\n",
      "2023-08-18 19:24:58.319946: I tensorflow/core/common_runtime/pluggable_device/pluggable_device_factory.cc:269] Created TensorFlow device (/job:localhost/replica:0/task:0/device:GPU:0 with 0 MB memory) -> physical PluggableDevice (device: 0, name: METAL, pci bus id: <undefined>)\n"
     ]
    }
   ],
   "source": [
    "# Tokenize the data using the BERT tokenizer\n",
    "\n",
    "# Initialize tokenizer\n",
    "tokenizer = BertTokenizer.from_pretrained('bert-base-uncased')\n",
    "\n",
    "# Tokenize the texts\n",
    "encoded_texts = tokenizer(texts, truncation=True, padding=True, max_length=512, return_tensors='tf')\n",
    "\n",
    "# Split data into training and validation sets\n",
    "input_ids_np = np.array(encoded_texts['input_ids'])\n",
    "labels_np = np.array(labels)\n",
    "\n",
    "train_inputs, val_inputs, train_labels, val_labels = train_test_split(\n",
    "    input_ids_np, \n",
    "    labels_np, \n",
    "    test_size=0.2, \n",
    "    random_state=42\n",
    ")\n",
    "\n",
    "print(\" ✅Data has been tokenized and split into training and validation sets.\")"
   ]
  },
  {
   "cell_type": "code",
   "execution_count": 6,
   "id": "9e423ee5",
   "metadata": {},
   "outputs": [
    {
     "name": "stderr",
     "output_type": "stream",
     "text": [
      "All PyTorch model weights were used when initializing TFBertForSequenceClassification.\n",
      "\n",
      "Some weights or buffers of the TF 2.0 model TFBertForSequenceClassification were not initialized from the PyTorch model and are newly initialized: ['classifier.weight', 'classifier.bias']\n",
      "You should probably TRAIN this model on a down-stream task to be able to use it for predictions and inference.\n",
      "WARNING:absl:At this time, the v2.11+ optimizer `tf.keras.optimizers.Adam` runs slowly on M1/M2 Macs, please use the legacy Keras optimizer instead, located at `tf.keras.optimizers.legacy.Adam`.\n",
      "WARNING:absl:There is a known slowdown when using v2.11+ Keras optimizers on M1/M2 Macs. Falling back to the legacy Keras optimizer, i.e., `tf.keras.optimizers.legacy.Adam`.\n"
     ]
    }
   ],
   "source": [
    "# Initialize BERT model for classification with 4 categories\n",
    "model = TFBertForSequenceClassification.from_pretrained('bert-base-uncased', num_labels=4)\n",
    "\n",
    "optimizer = Adam(learning_rate=5e-6, epsilon=1e-08)\n",
    "loss = 'sparse_categorical_crossentropy'  # since our labels are integers (0, 1, 2, 3)\n",
    "metric = 'accuracy' # use different metric?\n",
    "\n",
    "# Testing alternative metric for model performance, F1 score gives a balanced measurement between accuracy and recall\n",
    "# f1_score = tf.keras.metrics.F1Score(average=\"micro\")\n",
    "\n",
    "model.compile(optimizer=optimizer, loss=loss, metrics=[metric])"
   ]
  },
  {
   "cell_type": "markdown",
   "id": "85fd53d0",
   "metadata": {},
   "source": [
    "Should I use different metrics and/or optimizer?"
   ]
  },
  {
   "cell_type": "code",
   "execution_count": 7,
   "id": "51649e38",
   "metadata": {
    "scrolled": true
   },
   "outputs": [
    {
     "name": "stdout",
     "output_type": "stream",
     "text": [
      "Epoch 1/3\n"
     ]
    },
    {
     "name": "stderr",
     "output_type": "stream",
     "text": [
      "2023-08-18 19:25:06.466687: I tensorflow/core/grappler/optimizers/custom_graph_optimizer_registry.cc:114] Plugin optimizer for device_type GPU is enabled.\n"
     ]
    },
    {
     "name": "stdout",
     "output_type": "stream",
     "text": [
      "5/5 [==============================] - ETA: 0s - loss: 7.8867 - accuracy: 0.3750"
     ]
    },
    {
     "name": "stderr",
     "output_type": "stream",
     "text": [
      "2023-08-18 19:26:27.608283: I tensorflow/core/grappler/optimizers/custom_graph_optimizer_registry.cc:114] Plugin optimizer for device_type GPU is enabled.\n"
     ]
    },
    {
     "name": "stdout",
     "output_type": "stream",
     "text": [
      "5/5 [==============================] - 128s 12s/step - loss: 7.8867 - accuracy: 0.3750 - val_loss: 2.0866 - val_accuracy: 0.2727\n",
      "Epoch 2/3\n",
      "5/5 [==============================] - 13s 1s/step - loss: 3.6384 - accuracy: 0.3500 - val_loss: 2.1558 - val_accuracy: 0.2727\n",
      "Epoch 3/3\n",
      "5/5 [==============================] - 5s 948ms/step - loss: 1.8735 - accuracy: 0.2500 - val_loss: 1.2603 - val_accuracy: 0.2727\n"
     ]
    }
   ],
   "source": [
    "# Train the model\n",
    "history = model.fit(\n",
    "    train_inputs, \n",
    "    train_labels, \n",
    "    validation_data=(val_inputs, val_labels), \n",
    "    epochs=3, \n",
    "    batch_size=8 \n",
    ")"
   ]
  },
  {
   "cell_type": "code",
   "execution_count": 8,
   "id": "44f1bde8",
   "metadata": {},
   "outputs": [
    {
     "name": "stderr",
     "output_type": "stream",
     "text": [
      "2023-08-18 19:27:28.562529: I tensorflow/core/grappler/optimizers/custom_graph_optimizer_registry.cc:114] Plugin optimizer for device_type GPU is enabled.\n"
     ]
    },
    {
     "name": "stdout",
     "output_type": "stream",
     "text": [
      "1/1 [==============================] - 28s 28s/step\n"
     ]
    }
   ],
   "source": [
    "# Confusion matrix\n",
    "\n",
    "predictions = model.predict(val_inputs)\n",
    "y_pred = predictions.logits\n",
    "\n",
    "y_pred_classes = np.argmax(y_pred, axis=1)\n",
    "\n",
    "y_true_classes = val_labels\n",
    "\n",
    "matrix = confusion_matrix(y_true_classes, y_pred_classes).numpy()"
   ]
  },
  {
   "cell_type": "code",
   "execution_count": 9,
   "id": "b4658416",
   "metadata": {},
   "outputs": [
    {
     "data": {
      "image/png": "[encoded data removed]",
      "text/plain": [
       "<Figure size 1000x700 with 2 Axes>"
      ]
     },
     "metadata": {},
     "output_type": "display_data"
    }
   ],
   "source": [
    "# Plot confusion matrix\n",
    "\n",
    "class_names = ['Public', 'Acquired', 'Venture', 'Closed']\n",
    "\n",
    "plt.figure(figsize=(10, 7))\n",
    "sns.heatmap(matrix, annot=True, fmt='d', cmap=\"Blues\", xticklabels=class_names, yticklabels=class_names)\n",
    "plt.xlabel('Predicted')\n",
    "plt.ylabel('True')\n",
    "plt.show()"
   ]
  },
  {
   "cell_type": "markdown",
   "id": "7bb7507f",
   "metadata": {},
   "source": [
    "### Confusion Matrix\n",
    "\n",
    "A confusion matrix is a visualization tool used to assess classification model performance. Each row represents the actual classes, while each column signifies the predicted classes.\n",
    "\n",
    "**Diagonal Elements**: Represent correct predictions (True Positives for each class).\n",
    "\n",
    "**Off-Diagonal Elements**: Indicate misclassifications. The element in row x and column y shows the instances where the actual class x was predicted as class y.\n",
    "\n",
    "A well-performing model will have higher values on the diagonal compared to off-diagonal elements, indicating accurate predictions."
   ]
  },
  {
   "cell_type": "code",
   "execution_count": null,
   "id": "52fda805",
   "metadata": {},
   "outputs": [],
   "source": []
  }
 ],
 "metadata": {
  "kernelspec": {
   "display_name": "venv-metal",
   "language": "python",
   "name": "venv-metal"
  },
  "language_info": {
   "codemirror_mode": {
    "name": "ipython",
    "version": 3
   },
   "file_extension": ".py",
   "mimetype": "text/x-python",
   "name": "python",
   "nbconvert_exporter": "python",
   "pygments_lexer": "ipython3",
   "version": "3.9.6"
  },
  "toc": {
   "base_numbering": 1,
   "nav_menu": {},
   "number_sections": true,
   "sideBar": true,
   "skip_h1_title": false,
   "title_cell": "Table of Contents",
   "title_sidebar": "Contents",
   "toc_cell": false,
   "toc_position": {},
   "toc_section_display": true,
   "toc_window_display": false
  }
 },
 "nbformat": 4,
 "nbformat_minor": 5
}
